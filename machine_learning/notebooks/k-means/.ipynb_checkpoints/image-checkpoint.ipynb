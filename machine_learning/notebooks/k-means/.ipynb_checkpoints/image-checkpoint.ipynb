{
 "cells": [
  {
   "cell_type": "code",
   "execution_count": 1,
   "id": "810e1cb7-7e2a-4ec2-977f-976188a7ce0d",
   "metadata": {},
   "outputs": [
    {
     "ename": "UnidentifiedImageError",
     "evalue": "cannot identify image file <_io.BytesIO object at 0x7fd7df069580>",
     "output_type": "error",
     "traceback": [
      "\u001b[0;31m---------------------------------------------------------------------------\u001b[0m",
      "\u001b[0;31mUnidentifiedImageError\u001b[0m                    Traceback (most recent call last)",
      "Cell \u001b[0;32mIn[1], line 12\u001b[0m\n\u001b[1;32m     10\u001b[0m image_url \u001b[38;5;241m=\u001b[39m \u001b[38;5;124m\"\u001b[39m\u001b[38;5;124mhttps://upload.wikimedia.org/wikipedia/commons/thumb/8/84/Example.svg/512px-Example.svg.png\u001b[39m\u001b[38;5;124m\"\u001b[39m\n\u001b[1;32m     11\u001b[0m response \u001b[38;5;241m=\u001b[39m requests\u001b[38;5;241m.\u001b[39mget(image_url)\n\u001b[0;32m---> 12\u001b[0m image \u001b[38;5;241m=\u001b[39m Image\u001b[38;5;241m.\u001b[39mopen(io\u001b[38;5;241m.\u001b[39mBytesIO(response\u001b[38;5;241m.\u001b[39mcontent))\n\u001b[1;32m     14\u001b[0m \u001b[38;5;66;03m# (Opcional) Reducir el tamaño para acelerar los cálculos\u001b[39;00m\n\u001b[1;32m     15\u001b[0m image \u001b[38;5;241m=\u001b[39m image\u001b[38;5;241m.\u001b[39mresize((\u001b[38;5;241m256\u001b[39m, \u001b[38;5;241m256\u001b[39m))\n",
      "File \u001b[0;32m/opt/conda/lib/python3.12/site-packages/PIL/Image.py:3536\u001b[0m, in \u001b[0;36mopen\u001b[0;34m(fp, mode, formats)\u001b[0m\n\u001b[1;32m   3534\u001b[0m     warnings\u001b[38;5;241m.\u001b[39mwarn(message)\n\u001b[1;32m   3535\u001b[0m msg \u001b[38;5;241m=\u001b[39m \u001b[38;5;124m\"\u001b[39m\u001b[38;5;124mcannot identify image file \u001b[39m\u001b[38;5;132;01m%r\u001b[39;00m\u001b[38;5;124m\"\u001b[39m \u001b[38;5;241m%\u001b[39m (filename \u001b[38;5;28;01mif\u001b[39;00m filename \u001b[38;5;28;01melse\u001b[39;00m fp)\n\u001b[0;32m-> 3536\u001b[0m \u001b[38;5;28;01mraise\u001b[39;00m UnidentifiedImageError(msg)\n",
      "\u001b[0;31mUnidentifiedImageError\u001b[0m: cannot identify image file <_io.BytesIO object at 0x7fd7df069580>"
     ]
    }
   ],
   "source": [
    "import requests\n",
    "import io\n",
    "import numpy as np\n",
    "import matplotlib.pyplot as plt\n",
    "from PIL import Image\n",
    "from sklearn.cluster import KMeans\n",
    "\n",
    "# 1. Descargar la imagen de Internet\n",
    "# (usa cualquier URL válida que apunte a una imagen)\n",
    "image_url = \"https://upload.wikimedia.org/wikipedia/commons/thumb/8/84/Example.svg/512px-Example.svg.png\"\n",
    "response = requests.get(image_url)\n",
    "image = Image.open(io.BytesIO(response.content))\n",
    "\n",
    "# (Opcional) Reducir el tamaño para acelerar los cálculos\n",
    "image = image.resize((256, 256))\n",
    "image_np = np.array(image)\n",
    "\n",
    "# Guardamos las dimensiones para reconstruir\n",
    "w, h, c = image_np.shape  # ancho, alto, canales (RGB)\n",
    "\n",
    "# 2. Preparar los datos para k-Means\n",
    "# Aplanamos la imagen a (n_pixels, 3)\n",
    "X = image_np.reshape(-1, 3).astype(float)\n",
    "\n",
    "# 3. Aplicar k-Means\n",
    "# Elige k = 8 como ejemplo (8 colores en la paleta final)\n",
    "k = 8\n",
    "kmeans = KMeans(n_clusters=k, random_state=42)\n",
    "kmeans.fit(X)\n",
    "\n",
    "centroids = kmeans.cluster_centers_  # colores representativos\n",
    "labels = kmeans.labels_              # cada píxel -> [0..k-1]\n",
    "\n",
    "# 4. Reconstruir la imagen comprimida\n",
    "compressed_pixels = centroids[labels].reshape(w, h, c).astype(np.uint8)\n",
    "compressed_img = Image.fromarray(compressed_pixels)\n",
    "\n",
    "# 5. Mostrar resultado\n",
    "fig, axs = plt.subplots(1, 2, figsize=(10, 5))\n",
    "\n",
    "axs[0].imshow(image)\n",
    "axs[0].set_title(\"Imagen Original\")\n",
    "axs[0].axis('off')\n",
    "\n",
    "axs[1].imshow(compressed_img)\n",
    "axs[1].set_title(f\"Imagen Comprimida (k={k} colores)\")\n",
    "axs[1].axis('off')\n",
    "\n",
    "plt.tight_layout()\n",
    "plt.show()\n"
   ]
  },
  {
   "cell_type": "code",
   "execution_count": null,
   "id": "1c79aa6d-8021-46fe-919f-00065c761aa2",
   "metadata": {},
   "outputs": [],
   "source": []
  }
 ],
 "metadata": {
  "kernelspec": {
   "display_name": "Python 3 (ipykernel)",
   "language": "python",
   "name": "python3"
  },
  "language_info": {
   "codemirror_mode": {
    "name": "ipython",
    "version": 3
   },
   "file_extension": ".py",
   "mimetype": "text/x-python",
   "name": "python",
   "nbconvert_exporter": "python",
   "pygments_lexer": "ipython3",
   "version": "3.12.7"
  }
 },
 "nbformat": 4,
 "nbformat_minor": 5
}
